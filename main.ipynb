{
 "cells": [
  {
   "cell_type": "code",
   "execution_count": 25,
   "id": "b3af7682-36fd-4a8a-a660-f78c5b3f7167",
   "metadata": {},
   "outputs": [],
   "source": [
    "import pandas as pd\n",
    "import numpy as np\n",
    "import matplotlib.pyplot as plt\n",
    "import seaborn as sns"
   ]
  },
  {
   "cell_type": "code",
   "execution_count": 26,
   "id": "6c704372-dc2c-4ac0-b214-7e155d08d745",
   "metadata": {},
   "outputs": [],
   "source": [
    "df = pd.read_csv(\"main_data_PRH_2017-2021.csv\")"
   ]
  },
  {
   "cell_type": "code",
   "execution_count": 27,
   "id": "21edd4c6-b022-4b83-af98-308d62e32af3",
   "metadata": {},
   "outputs": [
    {
     "data": {
      "text/html": [
       "<div>\n",
       "<style scoped>\n",
       "    .dataframe tbody tr th:only-of-type {\n",
       "        vertical-align: middle;\n",
       "    }\n",
       "\n",
       "    .dataframe tbody tr th {\n",
       "        vertical-align: top;\n",
       "    }\n",
       "\n",
       "    .dataframe thead th {\n",
       "        text-align: right;\n",
       "    }\n",
       "</style>\n",
       "<table border=\"1\" class=\"dataframe\">\n",
       "  <thead>\n",
       "    <tr style=\"text-align: right;\">\n",
       "      <th></th>\n",
       "      <th>ACCIDENT_ISSUE_CODE</th>\n",
       "      <th>HOSPITAL_BILLING_INVOICE_ID</th>\n",
       "      <th>BUSINESS_GROUP_CODE</th>\n",
       "      <th>ACCIDENT_CAUSE</th>\n",
       "      <th>ACCIDENT_INJURY</th>\n",
       "      <th>ACCIDENT_ORGAN_SUB_GROUP</th>\n",
       "      <th>SEVERITY_CODE</th>\n",
       "      <th>HOSPITAL_WCF_CODE</th>\n",
       "      <th>LENGTH_OF_STAY</th>\n",
       "      <th>SEX</th>\n",
       "      <th>...</th>\n",
       "      <th>220000</th>\n",
       "      <th>230100</th>\n",
       "      <th>230200</th>\n",
       "      <th>230300</th>\n",
       "      <th>230400</th>\n",
       "      <th>240000</th>\n",
       "      <th>250000</th>\n",
       "      <th>260000</th>\n",
       "      <th>PRH</th>\n",
       "      <th>INFORM_DATE</th>\n",
       "    </tr>\n",
       "  </thead>\n",
       "  <tbody>\n",
       "    <tr>\n",
       "      <th>0</th>\n",
       "      <td>10076300195</td>\n",
       "      <td>6475098</td>\n",
       "      <td>0.0</td>\n",
       "      <td>4</td>\n",
       "      <td>3</td>\n",
       "      <td>561</td>\n",
       "      <td>12.0</td>\n",
       "      <td>10050</td>\n",
       "      <td>1.0</td>\n",
       "      <td>F</td>\n",
       "      <td>...</td>\n",
       "      <td>NaN</td>\n",
       "      <td>NaN</td>\n",
       "      <td>NaN</td>\n",
       "      <td>NaN</td>\n",
       "      <td>NaN</td>\n",
       "      <td>NaN</td>\n",
       "      <td>NaN</td>\n",
       "      <td>NaN</td>\n",
       "      <td>1</td>\n",
       "      <td>2020-01-20</td>\n",
       "    </tr>\n",
       "    <tr>\n",
       "      <th>1</th>\n",
       "      <td>10076300195</td>\n",
       "      <td>6475104</td>\n",
       "      <td>0.0</td>\n",
       "      <td>4</td>\n",
       "      <td>3</td>\n",
       "      <td>561</td>\n",
       "      <td>12.0</td>\n",
       "      <td>10050</td>\n",
       "      <td>2.0</td>\n",
       "      <td>F</td>\n",
       "      <td>...</td>\n",
       "      <td>NaN</td>\n",
       "      <td>NaN</td>\n",
       "      <td>NaN</td>\n",
       "      <td>NaN</td>\n",
       "      <td>NaN</td>\n",
       "      <td>NaN</td>\n",
       "      <td>NaN</td>\n",
       "      <td>NaN</td>\n",
       "      <td>1</td>\n",
       "      <td>2020-01-20</td>\n",
       "    </tr>\n",
       "    <tr>\n",
       "      <th>2</th>\n",
       "      <td>10076300195</td>\n",
       "      <td>6475093</td>\n",
       "      <td>0.0</td>\n",
       "      <td>4</td>\n",
       "      <td>3</td>\n",
       "      <td>561</td>\n",
       "      <td>12.0</td>\n",
       "      <td>10050</td>\n",
       "      <td>1.0</td>\n",
       "      <td>F</td>\n",
       "      <td>...</td>\n",
       "      <td>NaN</td>\n",
       "      <td>200.0</td>\n",
       "      <td>NaN</td>\n",
       "      <td>NaN</td>\n",
       "      <td>NaN</td>\n",
       "      <td>NaN</td>\n",
       "      <td>NaN</td>\n",
       "      <td>NaN</td>\n",
       "      <td>1</td>\n",
       "      <td>2020-01-20</td>\n",
       "    </tr>\n",
       "    <tr>\n",
       "      <th>3</th>\n",
       "      <td>21016101160</td>\n",
       "      <td>6299337</td>\n",
       "      <td>911.0</td>\n",
       "      <td>7</td>\n",
       "      <td>6</td>\n",
       "      <td>562</td>\n",
       "      <td>11.0</td>\n",
       "      <td>21104</td>\n",
       "      <td>0.0</td>\n",
       "      <td>M</td>\n",
       "      <td>...</td>\n",
       "      <td>NaN</td>\n",
       "      <td>NaN</td>\n",
       "      <td>NaN</td>\n",
       "      <td>NaN</td>\n",
       "      <td>NaN</td>\n",
       "      <td>NaN</td>\n",
       "      <td>NaN</td>\n",
       "      <td>NaN</td>\n",
       "      <td>1</td>\n",
       "      <td>2018-10-04</td>\n",
       "    </tr>\n",
       "    <tr>\n",
       "      <th>4</th>\n",
       "      <td>10096300273</td>\n",
       "      <td>6475094</td>\n",
       "      <td>405.0</td>\n",
       "      <td>5</td>\n",
       "      <td>8</td>\n",
       "      <td>562</td>\n",
       "      <td>11.0</td>\n",
       "      <td>10107</td>\n",
       "      <td>1.0</td>\n",
       "      <td>M</td>\n",
       "      <td>...</td>\n",
       "      <td>NaN</td>\n",
       "      <td>NaN</td>\n",
       "      <td>NaN</td>\n",
       "      <td>NaN</td>\n",
       "      <td>NaN</td>\n",
       "      <td>NaN</td>\n",
       "      <td>NaN</td>\n",
       "      <td>NaN</td>\n",
       "      <td>1</td>\n",
       "      <td>2020-02-14</td>\n",
       "    </tr>\n",
       "    <tr>\n",
       "      <th>...</th>\n",
       "      <td>...</td>\n",
       "      <td>...</td>\n",
       "      <td>...</td>\n",
       "      <td>...</td>\n",
       "      <td>...</td>\n",
       "      <td>...</td>\n",
       "      <td>...</td>\n",
       "      <td>...</td>\n",
       "      <td>...</td>\n",
       "      <td>...</td>\n",
       "      <td>...</td>\n",
       "      <td>...</td>\n",
       "      <td>...</td>\n",
       "      <td>...</td>\n",
       "      <td>...</td>\n",
       "      <td>...</td>\n",
       "      <td>...</td>\n",
       "      <td>...</td>\n",
       "      <td>...</td>\n",
       "      <td>...</td>\n",
       "      <td>...</td>\n",
       "    </tr>\n",
       "    <tr>\n",
       "      <th>640949</th>\n",
       "      <td>11016402168</td>\n",
       "      <td>6725928</td>\n",
       "      <td>402.0</td>\n",
       "      <td>7</td>\n",
       "      <td>6</td>\n",
       "      <td>552</td>\n",
       "      <td>11.0</td>\n",
       "      <td>11014</td>\n",
       "      <td>3.0</td>\n",
       "      <td>M</td>\n",
       "      <td>...</td>\n",
       "      <td>NaN</td>\n",
       "      <td>NaN</td>\n",
       "      <td>NaN</td>\n",
       "      <td>NaN</td>\n",
       "      <td>NaN</td>\n",
       "      <td>NaN</td>\n",
       "      <td>NaN</td>\n",
       "      <td>NaN</td>\n",
       "      <td>1</td>\n",
       "      <td>2021-11-12</td>\n",
       "    </tr>\n",
       "    <tr>\n",
       "      <th>640950</th>\n",
       "      <td>12006401473</td>\n",
       "      <td>6725930</td>\n",
       "      <td>1301.0</td>\n",
       "      <td>14</td>\n",
       "      <td>9</td>\n",
       "      <td>632</td>\n",
       "      <td>11.0</td>\n",
       "      <td>100157</td>\n",
       "      <td>1.0</td>\n",
       "      <td>M</td>\n",
       "      <td>...</td>\n",
       "      <td>NaN</td>\n",
       "      <td>NaN</td>\n",
       "      <td>NaN</td>\n",
       "      <td>NaN</td>\n",
       "      <td>NaN</td>\n",
       "      <td>NaN</td>\n",
       "      <td>NaN</td>\n",
       "      <td>NaN</td>\n",
       "      <td>1</td>\n",
       "      <td>2021-12-27</td>\n",
       "    </tr>\n",
       "    <tr>\n",
       "      <th>640951</th>\n",
       "      <td>10066400305</td>\n",
       "      <td>6725931</td>\n",
       "      <td>1604.0</td>\n",
       "      <td>6</td>\n",
       "      <td>1</td>\n",
       "      <td>562</td>\n",
       "      <td>NaN</td>\n",
       "      <td>90101</td>\n",
       "      <td>2.0</td>\n",
       "      <td>M</td>\n",
       "      <td>...</td>\n",
       "      <td>NaN</td>\n",
       "      <td>NaN</td>\n",
       "      <td>NaN</td>\n",
       "      <td>NaN</td>\n",
       "      <td>NaN</td>\n",
       "      <td>NaN</td>\n",
       "      <td>NaN</td>\n",
       "      <td>NaN</td>\n",
       "      <td>1</td>\n",
       "      <td>2021-03-18</td>\n",
       "    </tr>\n",
       "    <tr>\n",
       "      <th>640952</th>\n",
       "      <td>20016401238</td>\n",
       "      <td>6671620</td>\n",
       "      <td>203.0</td>\n",
       "      <td>11</td>\n",
       "      <td>6</td>\n",
       "      <td>632</td>\n",
       "      <td>11.0</td>\n",
       "      <td>20112</td>\n",
       "      <td>15.0</td>\n",
       "      <td>M</td>\n",
       "      <td>...</td>\n",
       "      <td>NaN</td>\n",
       "      <td>NaN</td>\n",
       "      <td>NaN</td>\n",
       "      <td>NaN</td>\n",
       "      <td>NaN</td>\n",
       "      <td>NaN</td>\n",
       "      <td>NaN</td>\n",
       "      <td>NaN</td>\n",
       "      <td>1</td>\n",
       "      <td>2021-06-25</td>\n",
       "    </tr>\n",
       "    <tr>\n",
       "      <th>640953</th>\n",
       "      <td>10126400969</td>\n",
       "      <td>6721517</td>\n",
       "      <td>803.0</td>\n",
       "      <td>21</td>\n",
       "      <td>3</td>\n",
       "      <td>310</td>\n",
       "      <td>11.0</td>\n",
       "      <td>74002</td>\n",
       "      <td>0.0</td>\n",
       "      <td>M</td>\n",
       "      <td>...</td>\n",
       "      <td>NaN</td>\n",
       "      <td>NaN</td>\n",
       "      <td>NaN</td>\n",
       "      <td>NaN</td>\n",
       "      <td>NaN</td>\n",
       "      <td>NaN</td>\n",
       "      <td>NaN</td>\n",
       "      <td>NaN</td>\n",
       "      <td>1</td>\n",
       "      <td>2021-09-24</td>\n",
       "    </tr>\n",
       "  </tbody>\n",
       "</table>\n",
       "<p>640954 rows × 66 columns</p>\n",
       "</div>"
      ],
      "text/plain": [
       "        ACCIDENT_ISSUE_CODE  HOSPITAL_BILLING_INVOICE_ID  BUSINESS_GROUP_CODE  \\\n",
       "0               10076300195                      6475098                  0.0   \n",
       "1               10076300195                      6475104                  0.0   \n",
       "2               10076300195                      6475093                  0.0   \n",
       "3               21016101160                      6299337                911.0   \n",
       "4               10096300273                      6475094                405.0   \n",
       "...                     ...                          ...                  ...   \n",
       "640949          11016402168                      6725928                402.0   \n",
       "640950          12006401473                      6725930               1301.0   \n",
       "640951          10066400305                      6725931               1604.0   \n",
       "640952          20016401238                      6671620                203.0   \n",
       "640953          10126400969                      6721517                803.0   \n",
       "\n",
       "        ACCIDENT_CAUSE  ACCIDENT_INJURY  ACCIDENT_ORGAN_SUB_GROUP  \\\n",
       "0                    4                3                       561   \n",
       "1                    4                3                       561   \n",
       "2                    4                3                       561   \n",
       "3                    7                6                       562   \n",
       "4                    5                8                       562   \n",
       "...                ...              ...                       ...   \n",
       "640949               7                6                       552   \n",
       "640950              14                9                       632   \n",
       "640951               6                1                       562   \n",
       "640952              11                6                       632   \n",
       "640953              21                3                       310   \n",
       "\n",
       "        SEVERITY_CODE  HOSPITAL_WCF_CODE  LENGTH_OF_STAY SEX  ...  220000  \\\n",
       "0                12.0              10050             1.0   F  ...     NaN   \n",
       "1                12.0              10050             2.0   F  ...     NaN   \n",
       "2                12.0              10050             1.0   F  ...     NaN   \n",
       "3                11.0              21104             0.0   M  ...     NaN   \n",
       "4                11.0              10107             1.0   M  ...     NaN   \n",
       "...               ...                ...             ...  ..  ...     ...   \n",
       "640949           11.0              11014             3.0   M  ...     NaN   \n",
       "640950           11.0             100157             1.0   M  ...     NaN   \n",
       "640951            NaN              90101             2.0   M  ...     NaN   \n",
       "640952           11.0              20112            15.0   M  ...     NaN   \n",
       "640953           11.0              74002             0.0   M  ...     NaN   \n",
       "\n",
       "        230100  230200  230300  230400  240000  250000  260000  PRH  \\\n",
       "0          NaN     NaN     NaN     NaN     NaN     NaN     NaN    1   \n",
       "1          NaN     NaN     NaN     NaN     NaN     NaN     NaN    1   \n",
       "2        200.0     NaN     NaN     NaN     NaN     NaN     NaN    1   \n",
       "3          NaN     NaN     NaN     NaN     NaN     NaN     NaN    1   \n",
       "4          NaN     NaN     NaN     NaN     NaN     NaN     NaN    1   \n",
       "...        ...     ...     ...     ...     ...     ...     ...  ...   \n",
       "640949     NaN     NaN     NaN     NaN     NaN     NaN     NaN    1   \n",
       "640950     NaN     NaN     NaN     NaN     NaN     NaN     NaN    1   \n",
       "640951     NaN     NaN     NaN     NaN     NaN     NaN     NaN    1   \n",
       "640952     NaN     NaN     NaN     NaN     NaN     NaN     NaN    1   \n",
       "640953     NaN     NaN     NaN     NaN     NaN     NaN     NaN    1   \n",
       "\n",
       "        INFORM_DATE  \n",
       "0        2020-01-20  \n",
       "1        2020-01-20  \n",
       "2        2020-01-20  \n",
       "3        2018-10-04  \n",
       "4        2020-02-14  \n",
       "...             ...  \n",
       "640949   2021-11-12  \n",
       "640950   2021-12-27  \n",
       "640951   2021-03-18  \n",
       "640952   2021-06-25  \n",
       "640953   2021-09-24  \n",
       "\n",
       "[640954 rows x 66 columns]"
      ]
     },
     "execution_count": 27,
     "metadata": {},
     "output_type": "execute_result"
    }
   ],
   "source": [
    "df"
   ]
  },
  {
   "cell_type": "code",
   "execution_count": 28,
   "id": "6980d369-ce7d-41eb-98ae-369690296440",
   "metadata": {},
   "outputs": [
    {
     "data": {
      "text/plain": [
       "0.0       65311\n",
       "1301.0    48414\n",
       "203.0     40370\n",
       "1501.0    34054\n",
       "1616.0    33729\n",
       "          ...  \n",
       "1006.0        5\n",
       "301.0         3\n",
       "4321.0        2\n",
       "1450.0        2\n",
       "313.0         1\n",
       "Name: BUSINESS_GROUP_CODE, Length: 136, dtype: int64"
      ]
     },
     "execution_count": 28,
     "metadata": {},
     "output_type": "execute_result"
    }
   ],
   "source": [
    "df.BUSINESS_GROUP_CODE.value_counts()"
   ]
  },
  {
   "cell_type": "code",
   "execution_count": 29,
   "id": "665eac63-be0c-4ada-9870-abadba732f32",
   "metadata": {},
   "outputs": [
    {
     "data": {
      "text/plain": [
       "7     158697\n",
       "4     109274\n",
       "5      86016\n",
       "6      63402\n",
       "8      56487\n",
       "1      47980\n",
       "2      35590\n",
       "11     21738\n",
       "14     16156\n",
       "20      8144\n",
       "21      7856\n",
       "13      6414\n",
       "16      6264\n",
       "9       4818\n",
       "18      3667\n",
       "12      3180\n",
       "10      2381\n",
       "88      1859\n",
       "19       649\n",
       "3        319\n",
       "17        43\n",
       "22        14\n",
       "15         4\n",
       "23         2\n",
       "Name: ACCIDENT_CAUSE, dtype: int64"
      ]
     },
     "execution_count": 29,
     "metadata": {},
     "output_type": "execute_result"
    }
   ],
   "source": [
    "df.ACCIDENT_CAUSE.value_counts()"
   ]
  },
  {
   "cell_type": "code",
   "execution_count": 30,
   "id": "66af6537-7f0f-4524-98f1-4620e671a6cd",
   "metadata": {},
   "outputs": [
    {
     "data": {
      "text/plain": [
       "6     273363\n",
       "1     119020\n",
       "3      88687\n",
       "7      50099\n",
       "9      39731\n",
       "8      22328\n",
       "5      17274\n",
       "15      5624\n",
       "4       5493\n",
       "99      4732\n",
       "10      3924\n",
       "2       3520\n",
       "13      3108\n",
       "11      2431\n",
       "14      1562\n",
       "12        58\n",
       "Name: ACCIDENT_INJURY, dtype: int64"
      ]
     },
     "execution_count": 30,
     "metadata": {},
     "output_type": "execute_result"
    }
   ],
   "source": [
    "df.ACCIDENT_INJURY.value_counts()"
   ]
  },
  {
   "cell_type": "code",
   "execution_count": 31,
   "id": "67b19bad-66b8-461d-b721-66491bced5fa",
   "metadata": {},
   "outputs": [
    {
     "data": {
      "text/plain": [
       "562    88026\n",
       "561    84173\n",
       "700    57940\n",
       "121    30190\n",
       "122    29429\n",
       "552    23629\n",
       "541    20585\n",
       "542    20286\n",
       "651    19576\n",
       "632    18878\n",
       "631    18825\n",
       "110    18703\n",
       "551    18631\n",
       "652    18498\n",
       "521    16512\n",
       "522    15848\n",
       "661    15673\n",
       "662    14507\n",
       "160    13685\n",
       "310    13133\n",
       "532     9787\n",
       "531     9591\n",
       "642     8784\n",
       "641     8749\n",
       "123     8502\n",
       "410     4162\n",
       "511     4024\n",
       "420     3627\n",
       "620     3171\n",
       "512     3060\n",
       "150     2681\n",
       "633     2219\n",
       "130     2038\n",
       "543     2021\n",
       "430     1767\n",
       "210     1659\n",
       "653     1517\n",
       "910     1187\n",
       "523     1170\n",
       "563      928\n",
       "610      760\n",
       "142      534\n",
       "920      486\n",
       "141      453\n",
       "440      311\n",
       "643      293\n",
       "533      268\n",
       "513      146\n",
       "663      144\n",
       "553      123\n",
       "143       65\n",
       "Name: ACCIDENT_ORGAN_SUB_GROUP, dtype: int64"
      ]
     },
     "execution_count": 31,
     "metadata": {},
     "output_type": "execute_result"
    }
   ],
   "source": [
    "df.ACCIDENT_ORGAN_SUB_GROUP.value_counts()"
   ]
  },
  {
   "cell_type": "code",
   "execution_count": 32,
   "id": "00027be1-0164-47de-a36f-675e70ec1381",
   "metadata": {},
   "outputs": [
    {
     "data": {
      "text/plain": [
       "11.0    361869\n",
       "12.0    171629\n",
       "15.0       738\n",
       "13.0       135\n",
       "14.0        63\n",
       "Name: SEVERITY_CODE, dtype: int64"
      ]
     },
     "execution_count": 32,
     "metadata": {},
     "output_type": "execute_result"
    }
   ],
   "source": [
    "df.SEVERITY_CODE.value_counts()"
   ]
  },
  {
   "cell_type": "code",
   "execution_count": 33,
   "id": "4da50ae6-40ea-41e1-b9d8-7951245a85f9",
   "metadata": {},
   "outputs": [
    {
     "data": {
      "text/plain": [
       "11020     17303\n",
       "74002     13423\n",
       "20112     12732\n",
       "74101     11340\n",
       "100117    11194\n",
       "          ...  \n",
       "41119         1\n",
       "12109         1\n",
       "24110         1\n",
       "10055         1\n",
       "57112         1\n",
       "Name: HOSPITAL_WCF_CODE, Length: 1135, dtype: int64"
      ]
     },
     "execution_count": 33,
     "metadata": {},
     "output_type": "execute_result"
    }
   ],
   "source": [
    "df.HOSPITAL_WCF_CODE.value_counts()"
   ]
  },
  {
   "cell_type": "code",
   "execution_count": 34,
   "id": "f7875373-d5b7-4711-afe1-1c07d7eacc2b",
   "metadata": {},
   "outputs": [
    {
     "data": {
      "text/plain": [
       "M    493828\n",
       "F    147126\n",
       "Name: SEX, dtype: int64"
      ]
     },
     "execution_count": 34,
     "metadata": {},
     "output_type": "execute_result"
    }
   ],
   "source": [
    "df.SEX.value_counts()"
   ]
  },
  {
   "cell_type": "code",
   "execution_count": 35,
   "id": "39e03430-6c85-47de-b594-1699d76e3204",
   "metadata": {},
   "outputs": [
    {
     "data": {
      "text/plain": [
       "1    610369\n",
       "0     30585\n",
       "Name: PRH, dtype: int64"
      ]
     },
     "execution_count": 35,
     "metadata": {},
     "output_type": "execute_result"
    }
   ],
   "source": [
    "df.PRH.value_counts()"
   ]
  },
  {
   "cell_type": "code",
   "execution_count": 36,
   "id": "15108c85-8847-4f52-881e-d5214002688e",
   "metadata": {},
   "outputs": [],
   "source": [
    "df = pd.get_dummies(df,columns=[\"SEX\"])"
   ]
  },
  {
   "cell_type": "code",
   "execution_count": 37,
   "id": "03538cda-00d7-4283-9e23-fd04d9bd5e87",
   "metadata": {},
   "outputs": [],
   "source": [
    "df = df.fillna(0)"
   ]
  },
  {
   "cell_type": "code",
   "execution_count": 38,
   "id": "8bb87133-f886-43c6-8ee8-f64825e184da",
   "metadata": {},
   "outputs": [],
   "source": [
    "from sklearn import tree\n",
    "from sklearn.model_selection import train_test_split"
   ]
  },
  {
   "cell_type": "code",
   "execution_count": 39,
   "id": "5aabac6d-d44e-4af8-97b7-bb06a0b846da",
   "metadata": {},
   "outputs": [],
   "source": [
    "X = df.drop(columns=[\"PRH\", \"INFORM_DATE\"])\n",
    "y = df.PRH"
   ]
  },
  {
   "cell_type": "code",
   "execution_count": 40,
   "id": "9053df8a-6c0f-4d7e-a895-311bfcb52f66",
   "metadata": {},
   "outputs": [],
   "source": [
    "X_train, X_test, y_train, y_test = train_test_split(X, y, test_size=0.3, random_state=1)"
   ]
  },
  {
   "cell_type": "code",
   "execution_count": 41,
   "id": "af47bd90-b099-412d-b84f-6ee174df765e",
   "metadata": {},
   "outputs": [],
   "source": [
    "clf = tree.DecisionTreeClassifier(criterion=\"entropy\", max_depth=None)\n",
    "clf = clf.fit(X_train,y_train)\n",
    "y_pred = clf.predict(X_test)\n",
    "y_score = clf.score(X,y)"
   ]
  },
  {
   "cell_type": "code",
   "execution_count": 43,
   "id": "b56422ce-72e1-4c41-a4cf-6336db4678fa",
   "metadata": {},
   "outputs": [
    {
     "name": "stdout",
     "output_type": "stream",
     "text": [
      "1.0\n"
     ]
    }
   ],
   "source": [
    "print(clf.score(X_train,y_train))"
   ]
  },
  {
   "cell_type": "code",
   "execution_count": 44,
   "id": "616b5220-34fa-4de1-bffd-6fe2c49fd834",
   "metadata": {},
   "outputs": [
    {
     "name": "stdout",
     "output_type": "stream",
     "text": [
      "0.971781763717776\n"
     ]
    }
   ],
   "source": [
    "print(clf.score(X_test,y_test))"
   ]
  },
  {
   "cell_type": "code",
   "execution_count": 45,
   "id": "8be2e500-86f2-40a6-979f-42e17dcef70a",
   "metadata": {},
   "outputs": [
    {
     "name": "stdout",
     "output_type": "stream",
     "text": [
      "              precision    recall  f1-score   support\n",
      "\n",
      "           0       0.70      0.71      0.71      9162\n",
      "           1       0.99      0.98      0.99    183125\n",
      "\n",
      "    accuracy                           0.97    192287\n",
      "   macro avg       0.84      0.85      0.85    192287\n",
      "weighted avg       0.97      0.97      0.97    192287\n",
      "\n"
     ]
    }
   ],
   "source": [
    "from sklearn.metrics import classification_report,confusion_matrix\n",
    "\n",
    "print(classification_report(y_test,y_pred))"
   ]
  },
  {
   "cell_type": "code",
   "execution_count": 49,
   "id": "c7efdc31-5fe8-49e5-a584-9c7c20a4d46b",
   "metadata": {},
   "outputs": [
    {
     "data": {
      "text/plain": [
       "39"
      ]
     },
     "execution_count": 49,
     "metadata": {},
     "output_type": "execute_result"
    }
   ],
   "source": [
    "clf.get_depth()"
   ]
  },
  {
   "cell_type": "code",
   "execution_count": 51,
   "id": "82f59cbe-8744-4241-aa38-d1932e2dafb1",
   "metadata": {},
   "outputs": [
    {
     "data": {
      "text/plain": [
       "9420"
      ]
     },
     "execution_count": 51,
     "metadata": {},
     "output_type": "execute_result"
    }
   ],
   "source": [
    "clf.get_n_leaves()"
   ]
  },
  {
   "cell_type": "code",
   "execution_count": 50,
   "id": "cbfa2366-545b-4df4-af94-62462a00d8bd",
   "metadata": {},
   "outputs": [
    {
     "data": {
      "text/plain": [
       "{'ccp_alpha': 0.0,\n",
       " 'class_weight': None,\n",
       " 'criterion': 'entropy',\n",
       " 'max_depth': None,\n",
       " 'max_features': None,\n",
       " 'max_leaf_nodes': None,\n",
       " 'min_impurity_decrease': 0.0,\n",
       " 'min_samples_leaf': 1,\n",
       " 'min_samples_split': 2,\n",
       " 'min_weight_fraction_leaf': 0.0,\n",
       " 'random_state': None,\n",
       " 'splitter': 'best'}"
      ]
     },
     "execution_count": 50,
     "metadata": {},
     "output_type": "execute_result"
    }
   ],
   "source": [
    "clf.get_params()"
   ]
  },
  {
   "cell_type": "code",
   "execution_count": null,
   "id": "a7499577-3a73-4598-89ef-ef75410becca",
   "metadata": {},
   "outputs": [],
   "source": []
  }
 ],
 "metadata": {
  "kernelspec": {
   "display_name": "Python 3 (ipykernel)",
   "language": "python",
   "name": "python3"
  },
  "language_info": {
   "codemirror_mode": {
    "name": "ipython",
    "version": 3
   },
   "file_extension": ".py",
   "mimetype": "text/x-python",
   "name": "python",
   "nbconvert_exporter": "python",
   "pygments_lexer": "ipython3",
   "version": "3.9.7"
  }
 },
 "nbformat": 4,
 "nbformat_minor": 5
}
